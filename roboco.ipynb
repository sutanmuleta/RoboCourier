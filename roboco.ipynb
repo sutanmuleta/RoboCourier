{
  "nbformat": 4,
  "nbformat_minor": 0,
  "metadata": {
    "colab": {
      "provenance": []
    },
    "kernelspec": {
      "name": "python3",
      "display_name": "Python 3"
    },
    "language_info": {
      "name": "python"
    }
  },
  "cells": [
    {
      "cell_type": "code",
      "execution_count": null,
      "metadata": {
        "id": "JuDQGJdhdxX1"
      },
      "outputs": [],
      "source": [
        "# building my rl env"
      ]
    },
    {
      "cell_type": "code",
      "source": [
        "!pip install --quiet gymnasium"
      ],
      "metadata": {
        "id": "eSx2O0DymCXn"
      },
      "execution_count": null,
      "outputs": []
    },
    {
      "cell_type": "code",
      "source": [
        "# creating the actual env\n",
        "import gymnasium as gym\n",
        "from gymnasium import spaces\n",
        "import numpy as np\n",
        "from dataclasses import dataclass\n",
        "print(\"Setup Ok\")"
      ],
      "metadata": {
        "colab": {
          "base_uri": "https://localhost:8080/"
        },
        "id": "cJ37GsJAmU3n",
        "outputId": "65ff29ef-7245-4137-8773-bf6f50e97497"
      },
      "execution_count": null,
      "outputs": [
        {
          "output_type": "stream",
          "name": "stdout",
          "text": [
            "Setup Ok\n"
          ]
        }
      ]
    },
    {
      "cell_type": "code",
      "source": [
        "#config\n",
        "@dataclass\n",
        "class RCConfig:\n",
        "    grid_size: int = 10\n",
        "# a 10x10 world\n",
        "    battery_max: int = 30\n",
        "    step_cost: float = 0.1\n",
        "#penalty each move (encourage efficiency)\n",
        "    delivery_reward: float = 10.0\n",
        "#reward on successful delivery\n",
        "    battery_fail_penalty: float = 5.0\n",
        "#penalty if battery hits 0 (fail)\n",
        "    use_stay: bool = False\n",
        "    seed: int | None = None"
      ],
      "metadata": {
        "id": "spSz1v6FnOMF"
      },
      "execution_count": null,
      "outputs": []
    },
    {
      "cell_type": "code",
      "source": [
        "# creates a gynamisum env class\n",
        "# define the rule of the world so agent knows what moves are possible and wht they see gives agent abaility to reset and make a move"
      ],
      "metadata": {
        "id": "kiKgcwI8nPj-"
      },
      "execution_count": null,
      "outputs": []
    },
    {
      "cell_type": "code",
      "source": [
        "class RoboCourierEnv(gym.Env):\n",
        "    metadata = {\"render.modes\": []}\n",
        "\n",
        "    def __init__(self, config: RCConfig = RCConfig()):\n",
        "        super().__init__()\n",
        "        self.cfg = config\n",
        "        self.rng = np.random.default_rng(self.cfg.seed)\n",
        "        n_actions = 4 if not self.cfg.use_stay else 5\n",
        "        self.action_space = spaces.Discrete(n_actions)\n",
        "\n",
        "        self.observation_space = spaces.Box(\n",
        "            low=0.0, high=1.0, shape=(8,), dtype=np.float32\n",
        "        )\n",
        "        self.grid_size = self.cfg.grid_size\n",
        "        self.reset_called = False"
      ],
      "metadata": {
        "id": "vUaiVqTvnsj8"
      },
      "execution_count": null,
      "outputs": []
    },
    {
      "cell_type": "code",
      "source": [
        "## choose starting coordinates for robot, pickup, and dropoff"
      ],
      "metadata": {
        "id": "yRFRofnqOOtq"
      },
      "execution_count": null,
      "outputs": []
    },
    {
      "cell_type": "code",
      "source": [
        "def _sample_positions(self):\n",
        "    \"\"\"Pick distinct start positions for robot, pickup, dropoff.\"\"\"\n",
        "    gs = self.grid_size\n",
        "    rx, ry = self.rng.integers(gs), self.rng.integers(gs)\n",
        "    px, py = self.rng.integers(gs), self.rng.integers(gs)\n",
        "    dx, dy = self.rng.integers(gs), self.rng.integers(gs)\n",
        "    #  resampling\n",
        "    while (px, py) == (rx, ry):\n",
        "        px, py = self.rng.integers(gs), self.rng.integers(gs)\n",
        "    while (dx, dy) in [(rx, ry), (px, py)]:\n",
        "        dx, dy = self.rng.integers(gs), self.rng.integers(gs)\n",
        "    return (rx, ry), (px, py), (dx, dy)"
      ],
      "metadata": {
        "id": "zAyNGrKINxoz"
      },
      "execution_count": null,
      "outputs": []
    },
    {
      "cell_type": "code",
      "source": [
        "# observation"
      ],
      "metadata": {
        "id": "8O6aGvl5PE1N"
      },
      "execution_count": null,
      "outputs": []
    },
    {
      "cell_type": "code",
      "source": [
        "def _obs(self):\n",
        "    # normalize positions from [0, grid_size 1]  [0,1]\n",
        "    rx_n = self.rx / (self.grid_size - 1)\n",
        "    ry_n = self.ry / (self.grid_size - 1)\n",
        "    px_n = self.px / (self.grid_size - 1)\n",
        "    py_n = self.py / (self.grid_size - 1)\n",
        "    dx_n = self.dx / (self.grid_size - 1)\n",
        "    dy_n = self.dy / (self.grid_size - 1)\n",
        "    has_n = 1.0 if self.has_package else 0.0\n",
        "    bat_n = self.battery / self.cfg.battery_max\n",
        "    return np.array([rx_n, ry_n, px_n, py_n, dx_n, dy_n, has_n, bat_n], dtype=np.float32)"
      ],
      "metadata": {
        "id": "1hY9nEzfPHfh"
      },
      "execution_count": null,
      "outputs": []
    },
    {
      "cell_type": "code",
      "source": [
        "#new game( reset for new env)"
      ],
      "metadata": {
        "id": "yd4AQQdvZnVB"
      },
      "execution_count": null,
      "outputs": []
    },
    {
      "cell_type": "code",
      "source": [
        "def reset(self, seed=None, options=None):\n",
        "    \"\"\"Start a new episode with random positions and full battery.\"\"\"\n",
        "    if seed is not None:\n",
        "        self.rng = np.random.default_rng(seed)\n",
        "# using  helper to pick robot, pickup, dropoff\n",
        "    (self.rx, self.ry), (self.px, self.py), (self.dx, self.dy) = self._sample_positions()\n",
        "\n",
        "    self.has_package = False\n",
        "    self.battery = int(self.cfg.battery_max)\n",
        "    self.steps = 0\n",
        "    self.reset_called = True\n",
        "# return observation vector + empty info dict\n",
        "    return self._obs(), {}\n",
        "\n",
        "# attach this method to the class\n",
        "setattr(RoboCourierEnv, \"reset\", reset)"
      ],
      "metadata": {
        "id": "SLTwH9QRcMvR"
      },
      "execution_count": null,
      "outputs": []
    },
    {
      "cell_type": "code",
      "source": [
        "def _sample_positions(self):\n",
        "    \"\"\"Pick distinct start positions for robot, pickup, dropoff on the grid.\"\"\"\n",
        "    gs = self.grid_size\n",
        "    rx, ry = self.rng.integers(gs), self.rng.integers(gs)\n",
        "    px, py = self.rng.integers(gs), self.rng.integers(gs)\n",
        "    dx, dy = self.rng.integers(gs), self.rng.integers(gs)\n",
        "# resampling\n",
        "    while (px, py) == (rx, ry):\n",
        "        px, py = self.rng.integers(gs), self.rng.integers(gs)\n",
        "    while (dx, dy) in [(rx, ry), (px, py)]:\n",
        "        dx, dy = self.rng.integers(gs), self.rng.integers(gs)\n",
        "    return (rx, ry), (px, py), (dx, dy)\n",
        "\n",
        "# attach to the class\n",
        "setattr(RoboCourierEnv, \"_sample_positions\", _sample_positions)"
      ],
      "metadata": {
        "id": "84Fc8VSOcsY2"
      },
      "execution_count": null,
      "outputs": []
    },
    {
      "cell_type": "code",
      "source": [
        "env = RoboCourierEnv()\n",
        "print(env._sample_positions())"
      ],
      "metadata": {
        "colab": {
          "base_uri": "https://localhost:8080/"
        },
        "id": "jP5smdc4cw58",
        "outputId": "aa7db9c3-f872-42e8-eeb7-31e35d81e780"
      },
      "execution_count": null,
      "outputs": [
        {
          "output_type": "stream",
          "name": "stdout",
          "text": [
            "((np.int64(2), np.int64(3)), (np.int64(2), np.int64(6)), (np.int64(3), np.int64(8)))\n"
          ]
        }
      ]
    },
    {
      "cell_type": "code",
      "source": [
        "def _obs(self):\n",
        "    # normalize positions from [0, grid_size-1] [0,1]\n",
        "    rx_n = self.rx / (self.grid_size - 1)\n",
        "    ry_n = self.ry / (self.grid_size - 1)\n",
        "    px_n = self.px / (self.grid_size - 1)\n",
        "    py_n = self.py / (self.grid_size - 1)\n",
        "    dx_n = self.dx / (self.grid_size - 1)\n",
        "    dy_n = self.dy / (self.grid_size - 1)\n",
        "    has_n = 1.0 if self.has_package else 0.0\n",
        "    bat_n = self.battery / self.cfg.battery_max\n",
        "    return np.array([rx_n, ry_n, px_n, py_n, dx_n, dy_n, has_n, bat_n], dtype=np.float32)\n",
        "\n",
        "# attach to the class\n",
        "setattr(RoboCourierEnv, \"_obs\", _obs)"
      ],
      "metadata": {
        "id": "uD6psEJBdeD5"
      },
      "execution_count": null,
      "outputs": []
    },
    {
      "cell_type": "code",
      "source": [
        "env = RoboCourierEnv()\n",
        "# manual state for testing _obs only:\n",
        "env.rx, env.ry = 2, 3\n",
        "# robot\n",
        "env.px, env.py = 7, 1\n",
        "# pickup\n",
        "env.dx, env.dy = 9, 9\n",
        "# dropoff\n",
        "env.has_package = False\n",
        "env.battery = env.cfg.battery_max\n",
        "# full battery\n",
        "\n",
        "vec = env._obs()\n",
        "print(\"len:\", len(vec))\n",
        "print(\"obs:\", vec)"
      ],
      "metadata": {
        "colab": {
          "base_uri": "https://localhost:8080/"
        },
        "id": "JiuM024vdj8Q",
        "outputId": "3a3aafaa-95bd-43e0-c67a-7ec3408fa049"
      },
      "execution_count": null,
      "outputs": [
        {
          "metadata": {
            "tags": null
          },
          "name": "stdout",
          "output_type": "stream",
          "text": [
            "len: 8\n",
            "obs: [0.22222222 0.33333334 0.7777778  0.11111111 1.         1.\n",
            " 0.         1.        ]\n"
          ]
        }
      ]
    },
    {
      "cell_type": "code",
      "source": [
        "## MOVEMENTS"
      ],
      "metadata": {
        "id": "ay44PDawe3SN"
      },
      "execution_count": null,
      "outputs": []
    },
    {
      "cell_type": "code",
      "source": [
        "def step(self, action: int):\n",
        "    \"\"\"\n",
        "    v0: movement only.\n",
        "    Returns: obs, reward=0.0, terminated=False, truncated=False, info={}\n",
        "    \"\"\"\n",
        "    if not self.reset_called:\n",
        "        raise RuntimeError(\"Call reset() before step().\")\n",
        "  # move within grid bounds\n",
        "    if action == 0:   # UP\n",
        "        self.ry = max(0, self.ry - 1)\n",
        "    elif action == 1: # DOWN\n",
        "        self.ry = min(self.grid_size - 1, self.ry + 1)\n",
        "    elif action == 2: # LEFT\n",
        "        self.rx = max(0, self.rx - 1)\n",
        "    elif action == 3: # RIGHT\n",
        "        self.rx = min(self.grid_size - 1, self.rx + 1)\n",
        "    else:\n",
        "        raise ValueError(f\"Invalid action {action} for Discrete({self.action_space.n})\")\n",
        "    obs = self._obs()\n",
        "    reward = 0.0\n",
        "    terminated = False\n",
        "    truncated = False\n",
        "    info = {}\n",
        "    return obs, reward, terminated, truncated, info\n",
        "# attach to the class\n",
        "setattr(RoboCourierEnv, \"step\", step)"
      ],
      "metadata": {
        "id": "Zpl4Y9Wse6gL"
      },
      "execution_count": null,
      "outputs": []
    },
    {
      "cell_type": "code",
      "source": [
        "env = RoboCourierEnv()\n",
        "obs, info = env.reset()\n",
        "# helper to decode robot coords (back to integers)\n",
        "def decode_robot_xy(obs_vec, grid_size):\n",
        "    x = int(round(obs_vec[0] * (grid_size - 1)))\n",
        "    y = int(round(obs_vec[1] * (grid_size - 1)))\n",
        "    return x, y\n",
        "print(\"start robot:\", decode_robot_xy(obs, env.grid_size))\n",
        "#  RIGHT, RIGHT\n",
        "for a in [0, 3, 3]:\n",
        "    obs, reward, terminated, truncated, info = env.step(a)\n",
        "    print(f\"action={a} -> robot:\", decode_robot_xy(obs, env.grid_size))"
      ],
      "metadata": {
        "colab": {
          "base_uri": "https://localhost:8080/"
        },
        "id": "edmJhtpWe8px",
        "outputId": "07c564b5-944e-46a6-fdb0-1e9880c23dc0"
      },
      "execution_count": null,
      "outputs": [
        {
          "output_type": "stream",
          "name": "stdout",
          "text": [
            "start robot: (2, 2)\n",
            "action=0 -> robot: (2, 1)\n",
            "action=3 -> robot: (3, 1)\n",
            "action=3 -> robot: (4, 1)\n"
          ]
        }
      ]
    },
    {
      "cell_type": "code",
      "source": [
        "## battery system"
      ],
      "metadata": {
        "id": "5wkdK1gvgyGK"
      },
      "execution_count": null,
      "outputs": []
    },
    {
      "cell_type": "code",
      "source": [
        "def step(self, action: int):\n",
        "    if not self.reset_called:\n",
        "        raise RuntimeError(\"Call reset() before step().\")\n",
        "#movement\n",
        "    if action == 0:   # UP\n",
        "        self.ry = max(0, self.ry - 1)\n",
        "    elif action == 1: # DOWN\n",
        "        self.ry = min(self.grid_size - 1, self.ry + 1)\n",
        "    elif action == 2: # LEFT\n",
        "        self.rx = max(0, self.rx - 1)\n",
        "    elif action == 3: # RIGHT\n",
        "        self.rx = min(self.grid_size - 1, self.rx + 1)\n",
        "    else:\n",
        "        raise ValueError(f\"Invalid action {action} for Discrete({self.action_space.n})\")\n",
        "#battery\n",
        "    self.battery -= 1\n",
        "    terminated = False\n",
        "    truncated = False\n",
        "    reward = 0.0\n",
        "    info = {}\n",
        "\n",
        "# if battery hits 0, truncate (failure for now; no penalty yet)\n",
        "    if self.battery <= 0:\n",
        "        self.battery = 0\n",
        "        truncated = True\n",
        "\n",
        "    obs = self._obs()\n",
        "    return obs, reward, terminated, truncated, info\n",
        "# attach\n",
        "setattr(RoboCourierEnv, \"step\", step)"
      ],
      "metadata": {
        "id": "Vn-Yqcrqg0pi"
      },
      "execution_count": null,
      "outputs": []
    },
    {
      "cell_type": "code",
      "source": [
        "## check\n",
        "env = RoboCourierEnv()\n",
        "obs, _ = env.reset()\n",
        "print(\"battery start:\", obs[-1])\n",
        "\n",
        "for t in range(3):\n",
        "    obs, r, term, trunc, _ = env.step(3)   # move RIGHT\n",
        "    print(f\"t={t} battery:\", obs[-1], \"trunc:\", trunc)"
      ],
      "metadata": {
        "colab": {
          "base_uri": "https://localhost:8080/"
        },
        "id": "hKkUQlQ2g43z",
        "outputId": "fceedb80-b3fc-4419-903d-4165ca227f28"
      },
      "execution_count": null,
      "outputs": [
        {
          "output_type": "stream",
          "name": "stdout",
          "text": [
            "battery start: 1.0\n",
            "t=0 battery: 0.96666664 trunc: False\n",
            "t=1 battery: 0.93333334 trunc: False\n",
            "t=2 battery: 0.9 trunc: False\n"
          ]
        }
      ]
    },
    {
      "cell_type": "code",
      "source": [
        "## adding per step cost ( negative reward)"
      ],
      "metadata": {
        "id": "KeLcSowwg7zB"
      },
      "execution_count": null,
      "outputs": []
    },
    {
      "cell_type": "code",
      "source": [
        "def step(self, action: int):\n",
        "    if not self.reset_called:\n",
        "        raise RuntimeError(\"Call reset() before step().\")\n",
        "# movement\n",
        "    if action == 0:   # UP\n",
        "        self.ry = max(0, self.ry - 1)\n",
        "    elif action == 1: # DOWN\n",
        "        self.ry = min(self.grid_size - 1, self.ry + 1)\n",
        "    elif action == 2: # LEFT\n",
        "        self.rx = max(0, self.rx - 1)\n",
        "    elif action == 3: # RIGHT\n",
        "        self.rx = min(self.grid_size - 1, self.rx + 1)\n",
        "    else:\n",
        "        raise ValueError(f\"Invalid action {action} for Discrete({self.action_space.n})\")\n",
        "# step cost\n",
        "    reward = -float(self.cfg.step_cost)\n",
        "# battery\n",
        "    self.battery -= 1\n",
        "    terminated = False\n",
        "    truncated = False\n",
        "    if self.battery <= 0:\n",
        "        self.battery = 0\n",
        "        truncated = True\n",
        "\n",
        "    obs = self._obs()\n",
        "    info = {}\n",
        "    return obs, reward, terminated, truncated, info\n",
        "# attach\n",
        "setattr(RoboCourierEnv, \"step\", step)"
      ],
      "metadata": {
        "id": "LfRts9cUhB2x"
      },
      "execution_count": null,
      "outputs": []
    },
    {
      "cell_type": "code",
      "source": [
        "## check\n",
        "env = RoboCourierEnv()\n",
        "obs, _ = env.reset()\n",
        "for t in range(3):\n",
        "    obs, r, term, trunc, _ = env.step(2)\n",
        "    print(f\"t={t} reward={r}, battery={obs[-1]:.2f}, trunc={trunc}\")"
      ],
      "metadata": {
        "colab": {
          "base_uri": "https://localhost:8080/"
        },
        "id": "u-9p521PhEhF",
        "outputId": "46e54dc3-1b33-4c40-ca79-ce11590ab20e"
      },
      "execution_count": null,
      "outputs": [
        {
          "output_type": "stream",
          "name": "stdout",
          "text": [
            "t=0 reward=-0.1, battery=0.97, trunc=False\n",
            "t=1 reward=-0.1, battery=0.93, trunc=False\n",
            "t=2 reward=-0.1, battery=0.90, trunc=False\n"
          ]
        }
      ]
    },
    {
      "cell_type": "code",
      "source": [
        "## adding auto pickup when standong on the pickup title\n",
        "## pickup logic"
      ],
      "metadata": {
        "id": "JIeU8HwmhLXJ"
      },
      "execution_count": null,
      "outputs": []
    },
    {
      "cell_type": "code",
      "source": [
        "def step(self, action: int):\n",
        "    if not self.reset_called:\n",
        "        raise RuntimeError(\"Call reset() before step().\")\n",
        "  # movement\n",
        "    if action == 0:   # UP\n",
        "        self.ry = max(0, self.ry - 1)\n",
        "    elif action == 1: # DOWN\n",
        "        self.ry = min(self.grid_size - 1, self.ry + 1)\n",
        "    elif action == 2: # LEFT\n",
        "        self.rx = max(0, self.rx - 1)\n",
        "    elif action == 3: # RIGHT\n",
        "        self.rx = min(self.grid_size - 1, self.rx + 1)\n",
        "    else:\n",
        "        raise ValueError(f\"Invalid action {action} for Discrete({self.action_space.n})\")\n",
        " # step cost\n",
        "    reward = -float(self.cfg.step_cost)\n",
        "# battery\n",
        "    self.battery -= 1\n",
        "    terminated = False\n",
        "    truncated = False\n",
        "    if self.battery <= 0:\n",
        "        self.battery = 0\n",
        "        truncated = True\n",
        "# pickup (only if not truncated)\n",
        "    if not truncated:\n",
        "        if (self.rx, self.ry) == (self.px, self.py) and not self.has_package:\n",
        "            self.has_package = True  # auto-pickup\n",
        "\n",
        "    obs = self._obs()\n",
        "    info = {}\n",
        "    return obs, reward, terminated, truncated, info\n",
        "\n",
        "# attach\n",
        "setattr(RoboCourierEnv, \"step\", step)"
      ],
      "metadata": {
        "id": "dQngqHo3hbGt"
      },
      "execution_count": null,
      "outputs": []
    },
    {
      "cell_type": "code",
      "source": [
        "## check\n",
        "env = RoboCourierEnv()\n",
        "obs, _ = env.reset()\n",
        "\n",
        "# place the robot next to pickup so moving RIGHT lands on it\n",
        "env.rx, env.ry = max(0, env.px - 1), env.py   # robot one cell left of pickup\n",
        "env.has_package = False\n",
        "env.battery = env.cfg.battery_max\n",
        "\n",
        "print(\"before step: has_package?\", env.has_package, \"robot:\", (env.rx, env.ry), \"pickup:\", (env.px, env.py))\n",
        "# move RIGHT into the pickup cell\n",
        "obs, r, term, trunc, _ = env.step(3)\n",
        "print(\"after step:  has_package?\", env.has_package, \"robot:\", (env.rx, env.ry), \"pickup:\", (env.px, env.py))\n",
        "print(\"reward this step:\", r, \"battery:\", obs[-1])"
      ],
      "metadata": {
        "colab": {
          "base_uri": "https://localhost:8080/"
        },
        "id": "kdA_254nhdjN",
        "outputId": "727d6864-5cf6-4ab0-e584-b28d1862b495"
      },
      "execution_count": null,
      "outputs": [
        {
          "metadata": {
            "tags": null
          },
          "name": "stdout",
          "output_type": "stream",
          "text": [
            "before step: has_package? False robot: (np.int64(2), np.int64(3)) pickup: (np.int64(3), np.int64(3))\n",
            "after step:  has_package? True robot: (np.int64(3), np.int64(3)) pickup: (np.int64(3), np.int64(3))\n",
            "reward this step: -0.1 battery: 0.96666664\n"
          ]
        }
      ]
    },
    {
      "cell_type": "code",
      "source": [
        "## delivery skills"
      ],
      "metadata": {
        "id": "_n01hhrkiMaC"
      },
      "execution_count": null,
      "outputs": []
    },
    {
      "cell_type": "code",
      "source": [
        "def step(self, action: int):\n",
        "    if not self.reset_called:\n",
        "        raise RuntimeError(\"Call reset() before step().\")\n",
        "# movement\n",
        "    if action == 0:   # UP\n",
        "        self.ry = max(0, self.ry - 1)\n",
        "    elif action == 1: # DOWN\n",
        "        self.ry = min(self.grid_size - 1, self.ry + 1)\n",
        "    elif action == 2: # LEFT\n",
        "        self.rx = max(0, self.rx - 1)\n",
        "    elif action == 3: # RIGHT\n",
        "        self.rx = min(self.grid_size - 1, self.rx + 1)\n",
        "    else:\n",
        "        raise ValueError(f\"Invalid action {action} for Discrete({self.action_space.n})\")\n",
        "# perstep cost (small negative reward)\n",
        "    reward = -float(self.cfg.step_cost)\n",
        "#battery\n",
        "    self.battery -= 1\n",
        "    terminated = False\n",
        "    truncated = False\n",
        "    if self.battery <= 0:\n",
        "        self.battery = 0\n",
        "        truncated = True\n",
        "#pcikup(only if not truncated)\n",
        "    if not truncated:\n",
        "        if (self.rx, self.ry) == (self.px, self.py) and not self.has_package:\n",
        "            self.has_package = True\n",
        "# Delivery (only if standing on dropoff AND carrying)\n",
        "        if (self.rx, self.ry) == (self.dx, self.dy) and self.has_package:\n",
        "            self.has_package = False\n",
        "            terminated = True\n",
        "            reward += float(self.cfg.delivery_reward)\n",
        "            # success bonus\n",
        "    obs = self._obs()\n",
        "    info = {}\n",
        "    return obs, reward, terminated, truncated, info\n",
        "# attach to class\n",
        "setattr(RoboCourierEnv, \"step\", step)"
      ],
      "metadata": {
        "id": "Q438yfn5iOY4"
      },
      "execution_count": null,
      "outputs": []
    },
    {
      "cell_type": "code",
      "source": [
        "## test on land on dropoff while carrying"
      ],
      "metadata": {
        "id": "MK4rLLBPiU-j"
      },
      "execution_count": null,
      "outputs": []
    },
    {
      "cell_type": "code",
      "source": [
        "env = RoboCourierEnv()\n",
        "obs, _ = env.reset()\n",
        "\n",
        "# place robot so that one RIGHT step lands on dropoff\n",
        "env.rx, env.ry = max(0, env.dx - 1), env.dy\n",
        "env.has_package = True\n",
        "env.battery = env.cfg.battery_max\n",
        "\n",
        "print(\"before:\", {\"robot\": (env.rx, env.ry), \"dropoff\": (env.dx, env.dy), \"has\": env.has_package})\n",
        "# take the delivery step (RIGHT)\n",
        "obs, r, term, trunc, _ = env.step(3)\n",
        "\n",
        "print(\"after: \", {\"robot\": (env.rx, env.ry), \"dropoff\": (env.dx, env.dy), \"has\": env.has_package})\n",
        "print(f\"reward={r:.2f}  terminated={term}  truncated={trunc}  battery={obs[-1]:.2f}\")"
      ],
      "metadata": {
        "colab": {
          "base_uri": "https://localhost:8080/"
        },
        "id": "TvvFRRdmiaXv",
        "outputId": "a6e22fac-30e9-4548-b6b3-b243a07984d6"
      },
      "execution_count": null,
      "outputs": [
        {
          "metadata": {
            "tags": null
          },
          "name": "stdout",
          "output_type": "stream",
          "text": [
            "before: {'robot': (np.int64(8), np.int64(7)), 'dropoff': (np.int64(9), np.int64(7)), 'has': True}\n",
            "after:  {'robot': (9, np.int64(7)), 'dropoff': (np.int64(9), np.int64(7)), 'has': False}\n",
            "reward=9.90  terminated=True  truncated=False  battery=0.97\n"
          ]
        }
      ]
    },
    {
      "cell_type": "code",
      "source": [
        "def step(self, action: int):\n",
        "    if not self.reset_called:\n",
        "        raise RuntimeError(\"Call reset() before step().\")\n",
        "    # movement\n",
        "    if action == 0:   # UP\n",
        "        self.ry = max(0, self.ry - 1)\n",
        "    elif action == 1: # DOWN\n",
        "        self.ry = min(self.grid_size - 1, self.ry + 1)\n",
        "    elif action == 2: # LEFT\n",
        "        self.rx = max(0, self.rx - 1)\n",
        "    elif action == 3: # RIGHT\n",
        "        self.rx = min(self.grid_size - 1, self.rx + 1)\n",
        "    else:\n",
        "        raise ValueError(f\"Invalid action {action} for Discrete({self.action_space.n})\")\n",
        "    # per step cost\n",
        "    reward = -float(self.cfg.step_cost)\n",
        "    # battery\n",
        "    self.battery -= 1\n",
        "    terminated = False\n",
        "    truncated = False\n",
        "    if self.battery <= 0:\n",
        "        self.battery = 0\n",
        "        truncated = True\n",
        "        reward -= float(self.cfg.battery_fail_penalty)\n",
        "        # NEW:penalty on battery out\n",
        "    # pickup & delivery (only if not truncated)\n",
        "    if not truncated:\n",
        "        if (self.rx, self.ry) == (self.px, self.py) and not self.has_package:\n",
        "            self.has_package = True\n",
        "\n",
        "        if (self.rx, self.ry) == (self.dx, self.dy) and self.has_package:\n",
        "            self.has_package = False\n",
        "            terminated = True\n",
        "            reward += float(self.cfg.delivery_reward)\n",
        "\n",
        "    obs = self._obs()\n",
        "    info = {}\n",
        "    return obs, reward, terminated, truncated, info"
      ],
      "metadata": {
        "id": "5rna5J96u8ZN"
      },
      "execution_count": null,
      "outputs": []
    },
    {
      "cell_type": "code",
      "source": [
        "env = RoboCourierEnv()\n",
        "obs, _ = env.reset()\n",
        "\n",
        "# drain battery to 1 so the next step hits zero\n",
        "env.battery = 1\n",
        "print(\"battery before:\", env.battery)\n",
        "\n",
        "obs, r, term, trunc, _ = env.step(3)  # any move\n",
        "print(\"battery after:\", env.battery, \"reward:\", r, \"terminated:\", term, \"truncated:\", trunc)"
      ],
      "metadata": {
        "colab": {
          "base_uri": "https://localhost:8080/"
        },
        "id": "lz_zJMHsvDkb",
        "outputId": "1bd9a632-0981-4300-837f-477cf89ebbe8"
      },
      "execution_count": null,
      "outputs": [
        {
          "metadata": {
            "tags": null
          },
          "name": "stdout",
          "output_type": "stream",
          "text": [
            "battery before: 1\n",
            "battery after: 0 reward: -0.1 terminated: False truncated: True\n"
          ]
        }
      ]
    },
    {
      "cell_type": "code",
      "source": [
        "## charging station for battery ( creating a new instance )"
      ],
      "metadata": {
        "id": "iaWr73-x7ReD"
      },
      "execution_count": null,
      "outputs": []
    },
    {
      "cell_type": "code",
      "source": [
        "def __init__(self, config: RCConfig = RCConfig()):\n",
        "    super(RoboCourierEnv, self).__init__()\n",
        "    self.cfg = config\n",
        "    self.rng = np.random.default_rng(self.cfg.seed)\n",
        "\n",
        "    # Actions: 0=UP, 1=DOWN, 2=LEFT, 3=RIGHT\n",
        "    n_actions = 4 if not self.cfg.use_stay else 5\n",
        "    self.action_space = spaces.Discrete(n_actions)\n",
        "    # [rx, ry, px, py, dx, dy, has_package, battery, cx, cy]\n",
        "    self.observation_space = spaces.Box(\n",
        "        low=0.0, high=1.0, shape=(10,), dtype=np.float32\n",
        "    )\n",
        "    self.grid_size = self.cfg.grid_size\n",
        "    self.reset_called = False\n",
        "    # NEW: charger coordinates\n",
        "    self.cx, self.cy = 0, 0\n",
        "# attach to class\n",
        "setattr(RoboCourierEnv, \"__init__\", __init__)"
      ],
      "metadata": {
        "id": "lTdkOQmz7ca8"
      },
      "execution_count": null,
      "outputs": []
    },
    {
      "cell_type": "code",
      "source": [
        "env = RoboCourierEnv()\n",
        "print(\"obs space shape:\", env.observation_space.shape)"
      ],
      "metadata": {
        "colab": {
          "base_uri": "https://localhost:8080/"
        },
        "id": "fo8_1pXI7lap",
        "outputId": "bc0cf588-fa0b-48cb-c3c3-135e234e8fe5"
      },
      "execution_count": null,
      "outputs": [
        {
          "output_type": "stream",
          "name": "stdout",
          "text": [
            "obs space shape: (10,)\n"
          ]
        }
      ]
    },
    {
      "cell_type": "code",
      "source": [
        "## sample charger in reset"
      ],
      "metadata": {
        "id": "_nJFwVE271ee"
      },
      "execution_count": null,
      "outputs": []
    },
    {
      "cell_type": "code",
      "source": [
        "def _sample_charger_positions(self, forbidden):\n",
        "    \"\"\"Pick a charger position not overlapping forbidden cells.\"\"\"\n",
        "    gs = self.grid_size\n",
        "    cx, cy = self.rng.integers(gs), self.rng.integers(gs)\n",
        "    while (cx, cy) in forbidden:\n",
        "        cx, cy = self.rng.integers(gs), self.rng.integers(gs)\n",
        "    return cx, cy\n",
        "\n",
        "setattr(RoboCourierEnv, \"_sample_charger_positions\", _sample_charger_positions)"
      ],
      "metadata": {
        "id": "S6WmgnHo75XX"
      },
      "execution_count": null,
      "outputs": []
    },
    {
      "cell_type": "code",
      "source": [
        "### update rest so it xan also place a charger"
      ],
      "metadata": {
        "id": "d8OTHVKH7-fX"
      },
      "execution_count": null,
      "outputs": []
    },
    {
      "cell_type": "code",
      "source": [
        "def reset(self, seed=None, options=None):\n",
        "    if seed is not None:\n",
        "        self.rng = np.random.default_rng(seed)\n",
        "    # robot, pickup, dropoff\n",
        "    (self.rx, self.ry), (self.px, self.py), (self.dx, self.dy) = self._sample_positions()\n",
        "    # charger (avoid overlap)\n",
        "    self.cx, self.cy = self._sample_charger_positions(\n",
        "        forbidden=[(self.rx, self.ry), (self.px, self.py), (self.dx, self.dy)]\n",
        "    )\n",
        "    self.has_package = False\n",
        "    self.battery = int(self.cfg.battery_max)\n",
        "    self.steps = 0\n",
        "    self.reset_called = True\n",
        "\n",
        "    return self._obs(), {}\n",
        "setattr(RoboCourierEnv, \"reset\", reset)"
      ],
      "metadata": {
        "id": "H-xuZWAG8F_R"
      },
      "execution_count": null,
      "outputs": []
    },
    {
      "cell_type": "code",
      "source": [
        "## update obs"
      ],
      "metadata": {
        "id": "QDL6uGDZ8IGg"
      },
      "execution_count": null,
      "outputs": []
    },
    {
      "cell_type": "code",
      "source": [
        "def _obs(self):\n",
        "    gs = self.grid_size - 1\n",
        "    rx_n = self.rx / gs\n",
        "    ry_n = self.ry / gs\n",
        "    px_n = self.px / gs\n",
        "    py_n = self.py / gs\n",
        "    dx_n = self.dx / gs\n",
        "    dy_n = self.dy / gs\n",
        "    has_n = 1.0 if self.has_package else 0.0\n",
        "    bat_n = self.battery / self.cfg.battery_max\n",
        "    cx_n = self.cx / gs\n",
        "    cy_n = self.cy / gs\n",
        "    return np.array([rx_n, ry_n, px_n, py_n, dx_n, dy_n, has_n, bat_n, cx_n, cy_n], dtype=np.float32)\n",
        "\n",
        "setattr(RoboCourierEnv, \"_obs\", _obs)"
      ],
      "metadata": {
        "id": "kH7cTZgU8MlX"
      },
      "execution_count": null,
      "outputs": []
    },
    {
      "cell_type": "code",
      "source": [
        "#test"
      ],
      "metadata": {
        "id": "z0hhABn08Vox"
      },
      "execution_count": null,
      "outputs": []
    },
    {
      "cell_type": "code",
      "source": [
        "env = RoboCourierEnv()\n",
        "obs, _ = env.reset()\n",
        "print(\"obs length:\", len(obs))\n",
        "print(\"obs:\", obs)\n",
        "print(\"charger coords (internal):\", (env.cx, env.cy))"
      ],
      "metadata": {
        "colab": {
          "base_uri": "https://localhost:8080/"
        },
        "id": "AiPElJnu8O7b",
        "outputId": "fffba20b-6cba-4b9c-e2ba-bf288ec61c19"
      },
      "execution_count": null,
      "outputs": [
        {
          "output_type": "stream",
          "name": "stdout",
          "text": [
            "obs length: 10\n",
            "obs: [0.33333334 0.5555556  1.         1.         1.         0.33333334\n",
            " 0.         1.         0.33333334 0.7777778 ]\n",
            "charger coords (internal): (np.int64(3), np.int64(7))\n"
          ]
        }
      ]
    },
    {
      "cell_type": "code",
      "source": [
        "## updating step so that thw standing robot refill the battery to max just reful no reward or penality"
      ],
      "metadata": {
        "id": "6shdhCpC9lEI"
      },
      "execution_count": null,
      "outputs": []
    },
    {
      "cell_type": "code",
      "source": [
        "def step(self, action: int):\n",
        "    if not self.reset_called:\n",
        "        raise RuntimeError(\"Call reset() before step().\")\n",
        "# movement\n",
        "    if action == 0:\n",
        "      # UP\n",
        "        self.ry = max(0, self.ry - 1)\n",
        "    elif action == 1:\n",
        "      # DOWN\n",
        "        self.ry = min(self.grid_size - 1, self.ry + 1)\n",
        "    elif action == 2:\n",
        "       # LEFT\n",
        "        self.rx = max(0, self.rx - 1)\n",
        "    elif action == 3:\n",
        "      # RIGHT\n",
        "        self.rx = min(self.grid_size - 1, self.rx + 1)\n",
        "    else:\n",
        "        raise ValueError(f\"Invalid action {action} for Discrete({self.action_space.n})\")\n",
        "# per step cost\n",
        "    reward = -float(self.cfg.step_cost)\n",
        "# battery tick\n",
        "    self.battery -= 1\n",
        "    terminated = False\n",
        "    truncated = False\n",
        "    if self.battery <= 0:\n",
        "        self.battery = 0\n",
        "        truncated = True\n",
        "        reward -= float(self.cfg.battery_fail_penalty)\n",
        "  #pcikup or delivery(only if not truncated)\n",
        "    if not truncated:\n",
        "  #pickup\n",
        "        if (self.rx, self.ry) == (self.px, self.py) and not self.has_package:\n",
        "          self.has_package = True\n",
        "# Delivery\n",
        "        if (self.rx, self.ry) == (self.dx, self.dy) and self.has_package:\n",
        "            self.has_package = False\n",
        "            terminated = True\n",
        "            reward += float(self.cfg.delivery_reward)\n",
        "# recharge new : if on charger, refill battery to max\n",
        "        if (self.rx, self.ry) == (self.cx, self.cy):\n",
        "            self.battery = int(self.cfg.battery_max)\n",
        "# build obs & return\n",
        "    obs = self._obs()\n",
        "    info = {}\n",
        "    return obs, reward, terminated, truncated, info\n",
        "setattr(RoboCourierEnv, \"step\", step)"
      ],
      "metadata": {
        "id": "nuRMEWWW926c"
      },
      "execution_count": null,
      "outputs": []
    },
    {
      "cell_type": "code",
      "source": [
        "#test"
      ],
      "metadata": {
        "id": "VbLhJHl9-1wK"
      },
      "execution_count": null,
      "outputs": []
    },
    {
      "cell_type": "code",
      "source": [
        "env = RoboCourierEnv()\n",
        "obs, _ = env.reset()\n",
        "# put robot one cell left of charger\n",
        "env.rx, env.ry = max(0, env.cx - 1), env.cy\n",
        "env.battery = 3  # low battery\n",
        "print(\"before:\", {\"robot\": (env.rx, env.ry), \"charger\": (env.cx, env.cy), \"battery\": env.battery})\n",
        "\n",
        "# move RIGHT onto charger\n",
        "obs, r, term, trunc, _ = env.step(3)\n",
        "print(\"after: \", {\"robot\": (env.rx, env.ry), \"charger\": (env.cx, env.cy), \"battery\": env.battery, \"truncated\": trunc})\n",
        "print(\"obs battery fraction:\", f\"{obs[7]:.2f}\")\n",
        "# element 7 is normalized battery"
      ],
      "metadata": {
        "colab": {
          "base_uri": "https://localhost:8080/"
        },
        "id": "8USuqHLo-_St",
        "outputId": "6818230f-208d-4cf5-8293-b26cde106f17"
      },
      "execution_count": null,
      "outputs": [
        {
          "output_type": "stream",
          "name": "stdout",
          "text": [
            "before: {'robot': (np.int64(6), np.int64(9)), 'charger': (np.int64(7), np.int64(9)), 'battery': 3}\n",
            "after:  {'robot': (np.int64(7), np.int64(9)), 'charger': (np.int64(7), np.int64(9)), 'battery': 30, 'truncated': False}\n",
            "obs battery fraction: 1.00\n"
          ]
        }
      ]
    },
    {
      "cell_type": "code",
      "source": [
        "## turningint to plain engish"
      ],
      "metadata": {
        "id": "S2mh_Qm0AZfp"
      },
      "execution_count": null,
      "outputs": []
    },
    {
      "cell_type": "code",
      "source": [
        "def render(self):\n",
        "    \"\"\" Print a simple text grid so humans can see what's happening.\n",
        "    Legend:\n",
        "      R = robot\n",
        "      P = pickup\n",
        "      D = dropoff\n",
        "      C = charger\n",
        "      . = empty cell\n",
        "    If multiple items overlap (rare), we show priority: R > P > D > C \"\"\"\n",
        "    gs = self.grid_size\n",
        "    grid = [[\".\" for _ in range(gs)] for __ in range(gs)]\n",
        "# place items (lowest priority first)\n",
        "    grid[self.cy][self.cx] = \"C\"\n",
        "    grid[self.dy][self.dx] = \"D\"\n",
        "    grid[self.py][self.px] = \"P\"\n",
        "    grid[self.ry][self.rx] = \"R\"\n",
        "\n",
        "    print(f\"battery={self.battery}/{self.cfg.battery_max}  carrying={self.has_package}\")\n",
        "    for y in range(gs):\n",
        "        print(\" \".join(grid[y]))\n",
        "setattr(RoboCourierEnv, \"render\", render)"
      ],
      "metadata": {
        "id": "l0UuUIMEAcfS"
      },
      "execution_count": null,
      "outputs": []
    },
    {
      "cell_type": "code",
      "source": [
        "env = RoboCourierEnv()\n",
        "obs, _ = env.reset()\n",
        "env.render()\n",
        "# moves and render again\n",
        "env.step(3)\n",
        "env.render()\n",
        "env.step(1)\n",
        "env.render()"
      ],
      "metadata": {
        "colab": {
          "base_uri": "https://localhost:8080/"
        },
        "id": "RsYx62s8AyGO",
        "outputId": "79816b9a-e97b-4ae1-a7ce-ac75dbfc547d"
      },
      "execution_count": null,
      "outputs": [
        {
          "output_type": "stream",
          "name": "stdout",
          "text": [
            "battery=30/30  carrying=False\n",
            ". . . . . P . C . .\n",
            ". . . . . . . . . .\n",
            ". . . . . . . . . .\n",
            ". . . . D . . . . .\n",
            ". . . . . . . . . .\n",
            ". . . . . . . . . .\n",
            ". . . . . . . . . R\n",
            ". . . . . . . . . .\n",
            ". . . . . . . . . .\n",
            ". . . . . . . . . .\n",
            "battery=29/30  carrying=False\n",
            ". . . . . P . C . .\n",
            ". . . . . . . . . .\n",
            ". . . . . . . . . .\n",
            ". . . . D . . . . .\n",
            ". . . . . . . . . .\n",
            ". . . . . . . . . .\n",
            ". . . . . . . . . R\n",
            ". . . . . . . . . .\n",
            ". . . . . . . . . .\n",
            ". . . . . . . . . .\n",
            "battery=28/30  carrying=False\n",
            ". . . . . P . C . .\n",
            ". . . . . . . . . .\n",
            ". . . . . . . . . .\n",
            ". . . . D . . . . .\n",
            ". . . . . . . . . .\n",
            ". . . . . . . . . .\n",
            ". . . . . . . . . .\n",
            ". . . . . . . . . R\n",
            ". . . . . . . . . .\n",
            ". . . . . . . . . .\n"
          ]
        }
      ]
    },
    {
      "cell_type": "code",
      "source": [
        "#test\n",
        "import matplotlib.pyplot as plt\n",
        "import numpy as np\n",
        "\n",
        "def plot_env(env, title=\"RoboCourier\"):\n",
        "    gs = env.grid_size\n",
        "\n",
        "    fig, ax = plt.subplots(figsize=(4, 4))\n",
        "    board = np.zeros((gs, gs))\n",
        "    ax.imshow(board, extent=(-0.5, gs-0.5, -0.5, gs-0.5))\n",
        "\n",
        "    ax.set_xticks(np.arange(-0.5, gs, 1))\n",
        "    ax.set_yticks(np.arange(-0.5, gs, 1))\n",
        "    ax.grid(True)\n",
        "    ax.set_xlim(-0.5, gs-0.5)\n",
        "    ax.set_ylim(-0.5, gs-0.5)\n",
        "    ax.invert_yaxis()\n",
        "\n",
        "    ax.scatter([env.cx], [env.cy], s=100, marker=\"s\", label=\"Charger (C)\")\n",
        "    ax.scatter([env.dx], [env.dy], s=100, marker=\"^\", label=\"Dropoff (D)\")\n",
        "    ax.scatter([env.px], [env.py], s=100, marker=\"o\", label=\"Pickup (P)\")\n",
        "    ax.scatter([env.rx], [env.ry], s=120, marker=\"X\", label=\"Robot (R)\")\n",
        "\n",
        "    ax.set_title(f\"{title}\\nBattery: {env.battery}/{env.cfg.battery_max}  Carrying: {env.has_package}\")\n",
        "    ax.legend(loc=\"upper right\", bbox_to_anchor=(1.35, 1.0))\n",
        "    plt.show()\n",
        "# test\n",
        "env = RoboCourierEnv()\n",
        "env.reset()\n",
        "plot_env(env, \"After reset()\")"
      ],
      "metadata": {
        "colab": {
          "base_uri": "https://localhost:8080/",
          "height": 411
        },
        "id": "77lDq_oMBJyX",
        "outputId": "32407975-aeab-4c90-c853-86a529079f2e"
      },
      "execution_count": null,
      "outputs": [
        {
          "output_type": "display_data",
          "data": {
            "text/plain": [
              "<Figure size 400x400 with 1 Axes>"
            ],
            "image/png": "[encoded data removed]"
          },
          "metadata": {}
        }
      ]
    },
    {
      "cell_type": "code",
      "source": [
        "env.step(3)  # 3 = RIGHT\n",
        "plot_env(env, \"After step(RIGHT)\")"
      ],
      "metadata": {
        "colab": {
          "base_uri": "https://localhost:8080/",
          "height": 411
        },
        "id": "0DzHJMdWCcP6",
        "outputId": "5745d78d-27d7-475a-9bde-1a892895f265"
      },
      "execution_count": null,
      "outputs": [
        {
          "output_type": "display_data",
          "data": {
            "text/plain": [
              "<Figure size 400x400 with 1 Axes>"
            ],
            "image/png": "[encoded data removed]"
          },
          "metadata": {}
        }
      ]
    },
    {
      "cell_type": "code",
      "source": [
        "## animate"
      ],
      "metadata": {
        "id": "SDgXTMCEDcqL"
      },
      "execution_count": null,
      "outputs": []
    },
    {
      "cell_type": "code",
      "source": [
        "# Mini animation using a fixed list of actions\n",
        "import time\n",
        "from IPython.display import clear_output, display\n",
        "\n",
        "def animate_actions(env, actions, delay=0.4, title=\"RoboCourier Animation\"):\n",
        "    \"\"\"Animate the env for a sequence of actions.\"\"\"\n",
        "    #  fresh\n",
        "    env.reset()\n",
        "    clear_output(wait=True)\n",
        "    plot_env(env, f\"{title} — start\")\n",
        "    display(None)\n",
        "    time.sleep(delay)\n",
        "\n",
        "    for i, a in enumerate(actions, 1):\n",
        "        env.step(a)\n",
        "        clear_output(wait=True)\n",
        "        plot_env(env, f\"{title} — step {i} (action={a})\")\n",
        "        display(None)\n",
        "        time.sleep(delay)\n",
        "env = RoboCourierEnv()\n",
        "animate_actions(env, actions=[3,3,1,1,2], delay=0.5)"
      ],
      "metadata": {
        "colab": {
          "base_uri": "https://localhost:8080/",
          "height": 428
        },
        "id": "PmlAD4GADeUE",
        "outputId": "86cbee04-85af-4fe5-e8df-679e68f21699"
      },
      "execution_count": null,
      "outputs": [
        {
          "output_type": "display_data",
          "data": {
            "text/plain": [
              "<Figure size 400x400 with 1 Axes>"
            ],
            "image/png": "[encoded data removed]"
          },
          "metadata": {}
        },
        {
          "output_type": "display_data",
          "data": {
            "text/plain": [
              "None"
            ]
          },
          "metadata": {}
        }
      ]
    },
    {
      "cell_type": "code",
      "source": [
        "import time\n",
        "from IPython.display import clear_output, display\n",
        "# 0=UP, 1=DOWN, 2=LEFT, 3=RIGHT\n",
        "def greedy_action_toward(env, tx, ty):\n",
        "    \"\"\"Choose a 1-step move that reduces Manhattan distance to (tx, ty).\"\"\"\n",
        "    # current pos\n",
        "    x, y = env.rx, env.ry\n",
        "    if x < tx:  return 3  # RIGHT\n",
        "    if x > tx:  return 2  # LEFT\n",
        "    if y < ty:  return 1  # DOWN\n",
        "    if y > ty:  return 0  # UP\n",
        "    return 0\n",
        "def animate_greedy_delivery(env, max_steps=200, delay=0.35, title=\"RoboCourier Greedy\"):\n",
        "    env.reset()\n",
        "    steps = 0\n",
        "    clear_output(wait=True)\n",
        "    plot_env(env, f\"{title} — start\")\n",
        "    display(None)\n",
        "    time.sleep(delay)\n",
        "\n",
        "    while steps < max_steps:\n",
        "        # target: go to pickup if not carrying; otherwise to dropoff\n",
        "        if not env.has_package:\n",
        "            tx, ty = env.px, env.py\n",
        "        else:\n",
        "            tx, ty = env.dx, env.dy\n",
        "\n",
        "        action = greedy_action_toward(env, tx, ty)\n",
        "        obs, reward, terminated, truncated, _ = env.step(action)\n",
        "\n",
        "        steps += 1\n",
        "        clear_output(wait=True)\n",
        "        status = \"terminated\" if terminated else (\"truncated\" if truncated else \"running\")\n",
        "        plot_env(env, f\"{title} — step {steps}  status={status}  reward={reward:.2f}\")\n",
        "        display(None)\n",
        "        time.sleep(delay)\n",
        "\n",
        "        if terminated or truncated:\n",
        "            break\n",
        "\n",
        "env = RoboCourierEnv()\n",
        "animate_greedy_delivery(env, delay=0.4)"
      ],
      "metadata": {
        "colab": {
          "base_uri": "https://localhost:8080/",
          "height": 428
        },
        "id": "E7128o2lDkf-",
        "outputId": "497ad9a4-37b0-4209-fc02-c3a2793a2809"
      },
      "execution_count": null,
      "outputs": [
        {
          "output_type": "display_data",
          "data": {
            "text/plain": [
              "<Figure size 400x400 with 1 Axes>"
            ],
            "image/png": "[encoded data removed]"
          },
          "metadata": {}
        },
        {
          "output_type": "display_data",
          "data": {
            "text/plain": [
              "None"
            ]
          },
          "metadata": {}
        }
      ]
    }
  ]
}